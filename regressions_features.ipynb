{
 "cells": [
  {
   "cell_type": "markdown",
   "metadata": {},
   "source": [
    "## 5. Regression Difference in Difference Equations "
   ]
  },
  {
   "cell_type": "markdown",
   "metadata": {},
   "source": [
    "1st Regression: \n",
    "\n",
    "$price_{i} = β_{0} + β_{1} * $ Treatment_Period $+ ϵ_{i} $\n",
    "\n",
    "- Treatment_Period: is a dummy variable that takes the value of 1 during the treatment period between 12-16 June 2024 and 0 otherwise between 5-9 of June 2024.\n",
    "- Price: is the price for observation i in the time period.\n",
    "\n",
    "2nd Regression: \n",
    "\n",
    "$price_{i} = β_{0} + β_{1} * $ Treatment_City $ + ϵ_{i} $\n",
    "\n",
    "- Treatment_City: is a dummy that takes 1 if the city belongs to Barcelona and 0 if the city is Alicante.\n",
    "\n",
    "3rd Regression:\n",
    "\n",
    "$price_{i} = β_{0} + β_{1} * $ Treatment_Period $ + β_{2} * $ Treatment_city $ + β_{3} *$ (Treatment_Period * Treatment_City) $ + ϵ_{i} $\n",
    "\n",
    "The coefficient of $β_{3}$ serves as the quantitative representation of the difference-in-differences (DiD) estimate. This parameter encapsulates the overall impact of the event on prices by examining the interplay between the \"Treatment_Period\" and \"Treatment_City\". Consequently, it enables the isolation and measurement of the distinct effect of the treatment when both factors are concurrently present.\n",
    "<br>\n",
    "<br>\n",
    "In DiD analysis, it is vital to incorporate a second city/control city in order to establish a counterfactual. The control city addresses trends or factos equally influencing both treatment and control groups over time, providing a baseline for common influences. The interaction term \"Treatment_Period * Treatment_City\" captures the varying impact of the treatment across these groups. DiD discerns the treatment effect by comparing changes in the treatment city with those in the control city over the same period, reducing the influence of confounding variables and enhancing the robustness of estimating the event's impact on prices. "
   ]
  },
  {
   "cell_type": "markdown",
   "metadata": {},
   "source": [
    "## 6. Regression Models "
   ]
  },
  {
   "cell_type": "markdown",
   "metadata": {},
   "source": [
    "Imports"
   ]
  },
  {
   "cell_type": "code",
   "execution_count": 124,
   "metadata": {},
   "outputs": [],
   "source": [
    "import json\n",
    "import pandas as pd\n",
    "import os\n",
    "from bs4 import BeautifulSoup\n",
    "import time\n",
    "import requests\n",
    "import statsmodels.api as sm\n",
    "import numpy as np \n",
    "from googletrans import Translator\n",
    "import pandas as pd\n",
    "import statsmodels.api as sm\n",
    "from statsmodels.iolib.summary2 import summary_col\n",
    "from sklearn.feature_extraction.text import CountVectorizer\n",
    "import matplotlib.pyplot as plt\n",
    "from nltk.corpus import stopwords\n",
    "import nltk\n",
    "# Might need to pip install some libraries for translation\n",
    "#!pip install langdetect \n",
    "#!pip install googletrans==4.0.0-rc1\n"
   ]
  },
  {
   "cell_type": "code",
   "execution_count": 125,
   "metadata": {},
   "outputs": [],
   "source": [
    "#Barcelona Dataframes\n",
    "Barcelona_festival = pd.read_csv(\"Barcelona_Festival.csv\")\n",
    "Barcelona_before = pd.read_csv(\"Barcelona_before.csv\")\n",
    "\n",
    "# Alicante Dataframes\n",
    "Alicante_festival = pd.read_csv(\"Alicante_festival.csv\")\n",
    "Alicante_before = pd.read_csv(\"Alicante_before.csv\")"
   ]
  },
  {
   "cell_type": "markdown",
   "metadata": {},
   "source": [
    "Create Dummy Variables"
   ]
  },
  {
   "cell_type": "code",
   "execution_count": 126,
   "metadata": {},
   "outputs": [],
   "source": [
    "# Dummmy Variables Barcelona during 12-16 June \n",
    "Barcelona_festival['Treatment_Period'] = 1\n",
    "Barcelona_festival['Treatment_City'] = 1 \n",
    "\n",
    "# Dummy Variable Barcelona during 5-9  June \n",
    "Barcelona_before['Treatment_Period'] = 0\n",
    "Barcelona_before['Treatment_City'] = 1 \n",
    "\n",
    "# Dummy Variable Alicante duing 12-16 June \n",
    "Alicante_festival['Treatment_Period'] = 1\n",
    "Alicante_festival['Treatment_City'] = 0\n",
    "\n",
    "# Dummy Variable Alicante during 5-9 June \n",
    "Alicante_before['Treatment_Period'] = 0\n",
    "Alicante_before['Treatment_City'] = 0"
   ]
  },
  {
   "cell_type": "markdown",
   "metadata": {},
   "source": [
    "Aggregate data into into a single dataframe across the two cities"
   ]
  },
  {
   "cell_type": "code",
   "execution_count": 127,
   "metadata": {},
   "outputs": [
    {
     "data": {
      "text/html": [
       "<div>\n",
       "<style scoped>\n",
       "    .dataframe tbody tr th:only-of-type {\n",
       "        vertical-align: middle;\n",
       "    }\n",
       "\n",
       "    .dataframe tbody tr th {\n",
       "        vertical-align: top;\n",
       "    }\n",
       "\n",
       "    .dataframe thead th {\n",
       "        text-align: right;\n",
       "    }\n",
       "</style>\n",
       "<table border=\"1\" class=\"dataframe\">\n",
       "  <thead>\n",
       "    <tr style=\"text-align: right;\">\n",
       "      <th></th>\n",
       "      <th>Unnamed: 0</th>\n",
       "      <th>Hotel Name</th>\n",
       "      <th>Rating</th>\n",
       "      <th>Price</th>\n",
       "      <th>Hotel URL</th>\n",
       "      <th>Descriptions</th>\n",
       "      <th>Treatment_Period</th>\n",
       "      <th>Treatment_City</th>\n",
       "    </tr>\n",
       "  </thead>\n",
       "  <tbody>\n",
       "    <tr>\n",
       "      <th>0</th>\n",
       "      <td>0</td>\n",
       "      <td>Room Mate Gerard</td>\n",
       "      <td>8,8</td>\n",
       "      <td>€ 1.100</td>\n",
       "      <td>https://www.booking.com/hotel/es/room-mate-ger...</td>\n",
       "      <td>El Room Mate Gerard en Barcelona ofrece alojam...</td>\n",
       "      <td>1</td>\n",
       "      <td>1</td>\n",
       "    </tr>\n",
       "    <tr>\n",
       "      <th>1</th>\n",
       "      <td>1</td>\n",
       "      <td>Melia Barcelona Sarriá</td>\n",
       "      <td>8,2</td>\n",
       "      <td>€ 1.378</td>\n",
       "      <td>https://www.booking.com/hotel/es/melia-barcelo...</td>\n",
       "      <td>El Meliá Barcelona Sarriá cuenta con spa, gimn...</td>\n",
       "      <td>1</td>\n",
       "      <td>1</td>\n",
       "    </tr>\n",
       "    <tr>\n",
       "      <th>2</th>\n",
       "      <td>2</td>\n",
       "      <td>Catalonia Diagonal Centro</td>\n",
       "      <td>8,4</td>\n",
       "      <td>€ 799</td>\n",
       "      <td>https://www.booking.com/hotel/es/catalonia-dia...</td>\n",
       "      <td>El Catalonia Diagonal Centro se encuentra en p...</td>\n",
       "      <td>1</td>\n",
       "      <td>1</td>\n",
       "    </tr>\n",
       "    <tr>\n",
       "      <th>3</th>\n",
       "      <td>3</td>\n",
       "      <td>Barcelona with rooms and lofts in front of the...</td>\n",
       "      <td>7,0</td>\n",
       "      <td>€ 224</td>\n",
       "      <td>https://www.booking.com/hotel/es/casa-nou-barc...</td>\n",
       "      <td>Barcelona with rooms and lofts in front of the...</td>\n",
       "      <td>1</td>\n",
       "      <td>1</td>\n",
       "    </tr>\n",
       "    <tr>\n",
       "      <th>4</th>\n",
       "      <td>4</td>\n",
       "      <td>TWO Hotel Barcelona by Axel 4* Sup- Adults Only</td>\n",
       "      <td>8,4</td>\n",
       "      <td>€ 964</td>\n",
       "      <td>https://www.booking.com/hotel/es/two-barcelona...</td>\n",
       "      <td>El TWO Hotel Barcelona by Axel está situado en...</td>\n",
       "      <td>1</td>\n",
       "      <td>1</td>\n",
       "    </tr>\n",
       "  </tbody>\n",
       "</table>\n",
       "</div>"
      ],
      "text/plain": [
       "   Unnamed: 0                                         Hotel Name Rating  \\\n",
       "0           0                                   Room Mate Gerard    8,8   \n",
       "1           1                             Melia Barcelona Sarriá    8,2   \n",
       "2           2                          Catalonia Diagonal Centro    8,4   \n",
       "3           3  Barcelona with rooms and lofts in front of the...    7,0   \n",
       "4           4    TWO Hotel Barcelona by Axel 4* Sup- Adults Only    8,4   \n",
       "\n",
       "     Price                                          Hotel URL  \\\n",
       "0  € 1.100  https://www.booking.com/hotel/es/room-mate-ger...   \n",
       "1  € 1.378  https://www.booking.com/hotel/es/melia-barcelo...   \n",
       "2    € 799  https://www.booking.com/hotel/es/catalonia-dia...   \n",
       "3    € 224  https://www.booking.com/hotel/es/casa-nou-barc...   \n",
       "4    € 964  https://www.booking.com/hotel/es/two-barcelona...   \n",
       "\n",
       "                                        Descriptions  Treatment_Period  \\\n",
       "0  El Room Mate Gerard en Barcelona ofrece alojam...                 1   \n",
       "1  El Meliá Barcelona Sarriá cuenta con spa, gimn...                 1   \n",
       "2  El Catalonia Diagonal Centro se encuentra en p...                 1   \n",
       "3  Barcelona with rooms and lofts in front of the...                 1   \n",
       "4  El TWO Hotel Barcelona by Axel está situado en...                 1   \n",
       "\n",
       "   Treatment_City  \n",
       "0               1  \n",
       "1               1  \n",
       "2               1  \n",
       "3               1  \n",
       "4               1  "
      ]
     },
     "execution_count": 127,
     "metadata": {},
     "output_type": "execute_result"
    }
   ],
   "source": [
    "df_total = pd.concat([Barcelona_festival, Barcelona_before, Alicante_festival ,Alicante_before], ignore_index=True)\n",
    "df_total.head()"
   ]
  },
  {
   "cell_type": "markdown",
   "metadata": {},
   "source": [
    "Remove the Hotel URL column & the € from Price column"
   ]
  },
  {
   "cell_type": "code",
   "execution_count": 128,
   "metadata": {},
   "outputs": [],
   "source": [
    "column_to_remove = ['Hotel URL']\n",
    "df_total = df_total.drop(columns=column_to_remove)\n",
    "df_total['Price'] = pd.to_numeric(df_total['Price'].str.replace('€', '').str.replace('.', ''), errors='coerce')"
   ]
  },
  {
   "cell_type": "markdown",
   "metadata": {},
   "source": [
    "Check the average prices"
   ]
  },
  {
   "cell_type": "code",
   "execution_count": 129,
   "metadata": {},
   "outputs": [
    {
     "name": "stdout",
     "output_type": "stream",
     "text": [
      "Treatment_City  Treatment_Period\n",
      "0               0                    634.067492\n",
      "                1                    676.052511\n",
      "1               0                   1081.593812\n",
      "                1                   1480.578842\n",
      "Name: Price, dtype: float64\n"
     ]
    }
   ],
   "source": [
    "# Check the mean of the prices\n",
    "average_prices = df_total.groupby(['Treatment_City', 'Treatment_Period'])['Price'].mean()\n",
    "print(average_prices)"
   ]
  },
  {
   "cell_type": "markdown",
   "metadata": {},
   "source": [
    "Create the Interaction Term between the Treatment Period and Treatment City"
   ]
  },
  {
   "cell_type": "code",
   "execution_count": 130,
   "metadata": {},
   "outputs": [],
   "source": [
    "df_total['Interaction_Period_City'] = df_total['Treatment_Period']  * df_total['Treatment_City']"
   ]
  },
  {
   "cell_type": "markdown",
   "metadata": {},
   "source": [
    "Regression Models"
   ]
  },
  {
   "cell_type": "markdown",
   "metadata": {},
   "source": [
    "The following results, for the OLS Regression for the treatment period, indicate a substantial and statistically significant difference in hotel prices between Barcelona and Alicante during the treatment period of the 12th-16th of June 2024. The coefficient for the variable \"Treatment_Period\" is 234.1026, associated with a p-value that is less than 0.05, suggesting that, on average, hotel prices in Barcelona are estimated to be 234.1026 euros higher than during the treatment period compared to the control period of 5th-9th of June 2024. \n",
    "<br>\n",
    "<br>\n",
    "However, it is crucial to acknowledge the limited explanatory power of the model, as reflected in the low R-squared value of 0.022. This implies that only a small fraction of variation in hotel prices is explained by the included variables. The presence of unaccounted factors may contribute to the observed price differences, emphasizing the need to caution in attributing the entire variation solely to the treatment period. "
   ]
  },
  {
   "cell_type": "code",
   "execution_count": 131,
   "metadata": {},
   "outputs": [
    {
     "name": "stdout",
     "output_type": "stream",
     "text": [
      "                            OLS Regression Results                            \n",
      "==============================================================================\n",
      "Dep. Variable:                  Price   R-squared:                       0.022\n",
      "Model:                            OLS   Adj. R-squared:                  0.022\n",
      "Method:                 Least Squares   F-statistic:                     85.25\n",
      "Date:                Sun, 04 Feb 2024   Prob (F-statistic):           4.28e-20\n",
      "Time:                        19:03:32   Log-Likelihood:                -30438.\n",
      "No. Observations:                3769   AIC:                         6.088e+04\n",
      "Df Residuals:                    3767   BIC:                         6.089e+04\n",
      "Df Model:                           1                                         \n",
      "Covariance Type:            nonrobust                                         \n",
      "====================================================================================\n",
      "                       coef    std err          t      P>|t|      [0.025      0.975]\n",
      "------------------------------------------------------------------------------------\n",
      "const              871.2020     17.898     48.677      0.000     836.112     906.292\n",
      "Treatment_Period   234.1026     25.355      9.233      0.000     184.392     283.813\n",
      "==============================================================================\n",
      "Omnibus:                     4617.914   Durbin-Watson:                   0.887\n",
      "Prob(Omnibus):                  0.000   Jarque-Bera (JB):          1705775.768\n",
      "Skew:                           6.140   Prob(JB):                         0.00\n",
      "Kurtosis:                     106.495   Cond. No.                         2.61\n",
      "==============================================================================\n",
      "\n",
      "Notes:\n",
      "[1] Standard Errors assume that the covariance matrix of the errors is correctly specified.\n"
     ]
    }
   ],
   "source": [
    "# Regression for Treatment Period \n",
    "const_period= sm.add_constant(df_total['Treatment_Period'])\n",
    "model_per = sm.OLS(df_total['Price'], const_period)\n",
    "ols_period = model_per.fit()\n",
    "print(ols_period.summary())\n"
   ]
  },
  {
   "cell_type": "markdown",
   "metadata": {},
   "source": [
    "The following regression results, for the Treatment_City, reveal a substantial and statistically significant difference in hotel prices between our treatment city Barcelona, and our control city Alicante. The coefficient for the variable \"Treatment_City\" is 626.1809, associated with a p-value less than 0.05, indicating that, on average, hotel prices in Barcelona are estimated to be 626.1809 euros higher compared to Alicante. \n",
    "<br>\n",
    "<br>\n",
    "Once again, it is important to note the moderate explanatory power of the model, indicated by the R-squared value of 0.158. While this suggest that a noteworthy proportion of the variation in hotel prices is explained by the included variables, there are likely othe unaccounted factors influencing the observed price differences. "
   ]
  },
  {
   "cell_type": "code",
   "execution_count": 132,
   "metadata": {},
   "outputs": [
    {
     "name": "stdout",
     "output_type": "stream",
     "text": [
      "                            OLS Regression Results                            \n",
      "==============================================================================\n",
      "Dep. Variable:                  Price   R-squared:                       0.158\n",
      "Model:                            OLS   Adj. R-squared:                  0.157\n",
      "Method:                 Least Squares   F-statistic:                     705.3\n",
      "Date:                Sun, 04 Feb 2024   Prob (F-statistic):          1.37e-142\n",
      "Time:                        19:03:32   Log-Likelihood:                -30156.\n",
      "No. Observations:                3769   AIC:                         6.032e+04\n",
      "Df Residuals:                    3767   BIC:                         6.033e+04\n",
      "Df Model:                           1                                         \n",
      "Covariance Type:            nonrobust                                         \n",
      "==================================================================================\n",
      "                     coef    std err          t      P>|t|      [0.025      0.975]\n",
      "----------------------------------------------------------------------------------\n",
      "const            654.9054     17.193     38.090      0.000     621.196     688.615\n",
      "Treatment_City   626.1809     23.579     26.557      0.000     579.952     672.410\n",
      "==============================================================================\n",
      "Omnibus:                     5085.668   Durbin-Watson:                   1.029\n",
      "Prob(Omnibus):                  0.000   Jarque-Bera (JB):          2864654.326\n",
      "Skew:                           7.254   Prob(JB):                         0.00\n",
      "Kurtosis:                     137.279   Cond. No.                         2.70\n",
      "==============================================================================\n",
      "\n",
      "Notes:\n",
      "[1] Standard Errors assume that the covariance matrix of the errors is correctly specified.\n"
     ]
    }
   ],
   "source": [
    "# Regression for Treatment City\n",
    "const_city= sm.add_constant(df_total['Treatment_City'])\n",
    "model_city = sm.OLS(df_total['Price'], const_city)\n",
    "ols_city = model_city.fit()\n",
    "print(ols_city.summary())"
   ]
  },
  {
   "cell_type": "markdown",
   "metadata": {},
   "source": [
    "The following regression, of the interaction between \"Treatment_Period\" and \"Treatment_City\", indicate a substantial and statistically significant coefficient for the interaction term \"Interaction_Period_City\". The positive sign of this coefficient suggest a significant positive effect of the interaction between the treatment period and city of hotel prices. In simpler terms, we could say that the SONAR Festival in Barcelona during the specified period appears to positively influence hotel prices. \n",
    "<br>\n",
    "<br>\n",
    "Further understanding the results, the coefficient for \"Treatment_Period\" is 41.9850 but it is not stastically significant with a p-value of 0.213. This implies that the effect of the treatment period alone on hotel prices may not be statistically significant. On the other hand, the coefficient for the  \"Treatment_City\" appears to be 447.5263 and is statistically significant with a p-value lower than 0.001. This is indicating that being in Barcelona generally leads to higher hotel prices compared to Alicante. When looked at it together, the interaction term underscores the combined influence of the treatment period and treatment city on hotel prices, suggesting a positive and significant impact, that could possibly be attributed to the SONAR festival in Barcelona during the week of the 12th-16th of June 2024. "
   ]
  },
  {
   "cell_type": "code",
   "execution_count": 133,
   "metadata": {},
   "outputs": [
    {
     "name": "stdout",
     "output_type": "stream",
     "text": [
      "                            OLS Regression Results                            \n",
      "==============================================================================\n",
      "Dep. Variable:                  Price   R-squared:                       0.192\n",
      "Model:                            OLS   Adj. R-squared:                  0.192\n",
      "Method:                 Least Squares   F-statistic:                     298.6\n",
      "Date:                Sun, 04 Feb 2024   Prob (F-statistic):          6.67e-174\n",
      "Time:                        19:03:32   Log-Likelihood:                -30078.\n",
      "No. Observations:                3769   AIC:                         6.016e+04\n",
      "Df Residuals:                    3765   BIC:                         6.019e+04\n",
      "Df Model:                           3                                         \n",
      "Covariance Type:            nonrobust                                         \n",
      "===========================================================================================\n",
      "                              coef    std err          t      P>|t|      [0.025      0.975]\n",
      "-------------------------------------------------------------------------------------------\n",
      "const                     634.0675     23.731     26.719      0.000     587.541     680.594\n",
      "Treatment_Period           41.9850     33.685      1.246      0.213     -24.057     108.027\n",
      "Treatment_City            447.5263     32.601     13.728      0.000     383.610     511.443\n",
      "Interaction_Period_City   357.0000     46.195      7.728      0.000     266.431     447.569\n",
      "==============================================================================\n",
      "Omnibus:                     5133.143   Durbin-Watson:                   1.073\n",
      "Prob(Omnibus):                  0.000   Jarque-Bera (JB):          3100047.529\n",
      "Skew:                           7.363   Prob(JB):                         0.00\n",
      "Kurtosis:                     142.726   Cond. No.                         7.05\n",
      "==============================================================================\n",
      "\n",
      "Notes:\n",
      "[1] Standard Errors assume that the covariance matrix of the errors is correctly specified.\n"
     ]
    }
   ],
   "source": [
    "# Regression for Treatment Interaction City and Period \n",
    "model_interaction = sm.OLS(df_total['Price'], sm.add_constant(df_total[['Treatment_Period', 'Treatment_City', 'Interaction_Period_City']]))\n",
    "ols_interaction = model_interaction.fit()\n",
    "print(ols_interaction.summary())"
   ]
  },
  {
   "cell_type": "markdown",
   "metadata": {},
   "source": [
    "Partial Standard Regression Table"
   ]
  },
  {
   "cell_type": "markdown",
   "metadata": {},
   "source": [
    "This table contains only the three regressions at the top. Section 7 contains the full table with the fourth column below. "
   ]
  },
  {
   "cell_type": "code",
   "execution_count": 134,
   "metadata": {},
   "outputs": [
    {
     "name": "stdout",
     "output_type": "stream",
     "text": [
      "\n",
      "===========================================================\n",
      "                          Price I     Price II   Price III \n",
      "-----------------------------------------------------------\n",
      "const                   871.2020*** 654.9054*** 634.0675***\n",
      "                        (17.8976)   (17.1934)   (23.7309)  \n",
      "Treatment_Period        234.1026***             41.9850    \n",
      "                        (25.3548)               (33.6849)  \n",
      "Treatment_City                      626.1809*** 447.5263***\n",
      "                                    (23.5791)   (32.6007)  \n",
      "Interaction_Period_City                         357.0000***\n",
      "                                                (46.1949)  \n",
      "R-squared               0.0221      0.1577      0.1922     \n",
      "R-squared Adj.          0.0219      0.1575      0.1916     \n",
      "===========================================================\n",
      "Standard errors in parentheses.\n",
      "* p<.1, ** p<.05, ***p<.01\n"
     ]
    }
   ],
   "source": [
    "# Create a summary table\n",
    "summary_table = summary_col([ols_period, ols_city, ols_interaction], stars=True)\n",
    "print(summary_table)\n"
   ]
  },
  {
   "cell_type": "markdown",
   "metadata": {},
   "source": [
    "## 7. Feature Extraction Controls"
   ]
  },
  {
   "cell_type": "markdown",
   "metadata": {},
   "source": [
    "Check descriptions"
   ]
  },
  {
   "cell_type": "markdown",
   "metadata": {},
   "source": [
    "To ensure cohesiveness, we will translate all the English descriptions in the dataset to Spanish using the translate_to_spanish() function. "
   ]
  },
  {
   "cell_type": "code",
   "execution_count": 135,
   "metadata": {},
   "outputs": [
    {
     "name": "stdout",
     "output_type": "stream",
     "text": [
      "Number of descriptions in English: 17\n",
      "Number of descriptions in Spanish: 3751\n"
     ]
    }
   ],
   "source": [
    "# Detect which language the description is in \n",
    "from langdetect import detect\n",
    "df_total['Language'] = df_total['Descriptions'].apply(lambda x: detect(x) if type(x) == str else None)\n",
    "\n",
    "# Count total descriptions in Spanish and in English \n",
    "english_count = df_total[df_total['Language'] == 'en'].shape[0]\n",
    "spanish_count = df_total[df_total['Language'] == 'es'].shape[0]\n",
    "print(f'Number of descriptions in English: {english_count}')\n",
    "print(f'Number of descriptions in Spanish: {spanish_count}')"
   ]
  },
  {
   "cell_type": "code",
   "execution_count": 136,
   "metadata": {},
   "outputs": [
    {
     "name": "stdout",
     "output_type": "stream",
     "text": [
      "      Unnamed: 0                                         Hotel Name Rating  \\\n",
      "0              0                                   Room Mate Gerard    8,8   \n",
      "1              1                             Melia Barcelona Sarriá    8,2   \n",
      "2              2                          Catalonia Diagonal Centro    8,4   \n",
      "3              3  Barcelona with rooms and lofts in front of the...    7,0   \n",
      "4              4    TWO Hotel Barcelona by Axel 4* Sup- Adults Only    8,4   \n",
      "...          ...                                                ...    ...   \n",
      "3764         884    Beautifully presented 5 bedroom villa with WIFI    NaN   \n",
      "3765         885                                        Villa inaya    7,9   \n",
      "3766         886                            Plaza Toros Apartamento    4,0   \n",
      "3767         887  COZY ROOM GUAPO-ALICANTE Nearby The Beach and ...    6,2   \n",
      "3768         888                                 Victoria Hospedaje    9,0   \n",
      "\n",
      "      Price                                       Descriptions  \\\n",
      "0      1100  El Room Mate Gerard en Barcelona ofrece alojam...   \n",
      "1      1378  El Meliá Barcelona Sarriá cuenta con spa, gimn...   \n",
      "2       799  El Catalonia Diagonal Centro se encuentra en p...   \n",
      "3       224  Barcelona with rooms and lofts in front of the...   \n",
      "4       964  El TWO Hotel Barcelona by Axel está situado en...   \n",
      "...     ...                                                ...   \n",
      "3764   1392  Beautifully presented 5 bedroom villa with WIF...   \n",
      "3765   1398  Villa inaya se encuentra en Alicante, a solo 7...   \n",
      "3766   1656  Plaza Toros Apartamento está en Alicante, a 17...   \n",
      "3767   1325  COZY ROOM GUAPO-ALICANTE Nearby The Beach and ...   \n",
      "3768    258  Victoria Hospedaje se encuentra en Alicante, c...   \n",
      "\n",
      "      Treatment_Period  Treatment_City  Interaction_Period_City Language  \n",
      "0                    1               1                        1       es  \n",
      "1                    1               1                        1       es  \n",
      "2                    1               1                        1       es  \n",
      "3                    1               1                        1       es  \n",
      "4                    1               1                        1       es  \n",
      "...                ...             ...                      ...      ...  \n",
      "3764                 0               0                        0       es  \n",
      "3765                 0               0                        0       es  \n",
      "3766                 0               0                        0       es  \n",
      "3767                 0               0                        0       es  \n",
      "3768                 0               0                        0       es  \n",
      "\n",
      "[3769 rows x 9 columns]\n"
     ]
    }
   ],
   "source": [
    "def translate_to_spanish(text):\n",
    "    \"\"\"\n",
    "    Translates the descriptions from English to Spanish. \n",
    "\n",
    "    Parameters: \n",
    "        - text (str): The input description to be translated. \n",
    "\n",
    "    Returns: \n",
    "        - str: The translated description in Spanish. \n",
    "    \"\"\"\n",
    "    translator = Translator()\n",
    "    translation = translator.translate(text, src='en', dest='es')\n",
    "    return translation.text\n",
    "\n",
    "english_descriptions = df_total[df_total['Language'] == 'en']['Descriptions']\n",
    "\n",
    "# Translate English descriptions to Spanish\n",
    "df_total.loc[df_total['Language'] == 'en', 'Descriptions'] = english_descriptions.apply(translate_to_spanish)\n",
    "\n",
    "print(df_total)"
   ]
  },
  {
   "cell_type": "code",
   "execution_count": 137,
   "metadata": {},
   "outputs": [
    {
     "name": "stdout",
     "output_type": "stream",
     "text": [
      "      Unnamed: 0                         Hotel Name Rating  Price  \\\n",
      "150          150        Aparthotel Arai 4* Superior    9,0   1455   \n",
      "160          160   Torre Melina, a Gran Meliá Hotel    NaN   1995   \n",
      "288          288       Àmfores Boutique Guest House    8,1    926   \n",
      "410          410             Sonder La Casa del Sol    7,9   1126   \n",
      "461          461              TOC Hotel Las Ramblas    8,3   1354   \n",
      "469          469   DO Plaça Reial powered by Sonder    8,4   1980   \n",
      "481          481               Ant Hostel Barcelona    7,0    993   \n",
      "544          544          Twentytu Hostel Barcelona    7,7   1993   \n",
      "1222         220       Àmfores Boutique Guest House    8,1    766   \n",
      "1289         287        Aparthotel Arai 4* Superior    9,0   1489   \n",
      "1305         303   Torre Melina, a Gran Meliá Hotel    NaN   2215   \n",
      "1334         332          Twentytu Hostel Barcelona    7,7   2353   \n",
      "1575         573             Sonder La Casa del Sol    7,9   1145   \n",
      "1621         619   DO Plaça Reial powered by Sonder    8,4   1636   \n",
      "1628         626              TOC Hotel Las Ramblas    8,3   1205   \n",
      "2071          67  Hotel Rambla Alicante Contactless    8,0    445   \n",
      "2959          79  Hotel Rambla Alicante Contactless    8,0    445   \n",
      "\n",
      "                                           Descriptions  Treatment_Period  \\\n",
      "150   Ubicado en el corazón del barrio gótico de Bar...                 1   \n",
      "160   Ubicado en 25,000 metros cuadrados de hermosos...                 1   \n",
      "288   Ubicado dentro de 1.2 km de Santa Maria del Ma...                 1   \n",
      "410   A 10 minutos a pie de La Pedrera, Sonder L La ...                 1   \n",
      "461   Mezclar, justo en el\\nCorazón de Barcelona\\nAc...                 1   \n",
      "469   Ubicada en Plaza Reial y justo al lado de Las ...                 1   \n",
      "481   Ubicado frente al Parc de la Ciutadella Park e...                 1   \n",
      "544   Este moderno albergue ecológico ofrece una ter...                 1   \n",
      "1222  Ubicado dentro de 1.2 km de Santa Maria del Ma...                 0   \n",
      "1289  Ubicado en el corazón del barrio gótico de Bar...                 0   \n",
      "1305  Ubicado en 25,000 metros cuadrados de hermosos...                 0   \n",
      "1334  Este moderno albergue ecológico ofrece una ter...                 0   \n",
      "1575  A 10 minutos a pie de La Pedrera, Sonder L La ...                 0   \n",
      "1621  Ubicada en Plaza Reial y justo al lado de Las ...                 0   \n",
      "1628  Mezclar, justo en el\\nCorazón de Barcelona\\nAc...                 0   \n",
      "2071  El recién renovado y moderno hotel Rambla Alic...                 1   \n",
      "2959  El recién renovado y moderno hotel Rambla Alic...                 0   \n",
      "\n",
      "      Treatment_City  Interaction_Period_City Language  \n",
      "150                1                        1       en  \n",
      "160                1                        1       en  \n",
      "288                1                        1       en  \n",
      "410                1                        1       en  \n",
      "461                1                        1       en  \n",
      "469                1                        1       en  \n",
      "481                1                        1       en  \n",
      "544                1                        1       en  \n",
      "1222               1                        0       en  \n",
      "1289               1                        0       en  \n",
      "1305               1                        0       en  \n",
      "1334               1                        0       en  \n",
      "1575               1                        0       en  \n",
      "1621               1                        0       en  \n",
      "1628               1                        0       en  \n",
      "2071               0                        0       en  \n",
      "2959               0                        0       en  \n"
     ]
    }
   ],
   "source": [
    "# Check if it worked (should all come out in Spanish now )\n",
    "english_rows = df_total[df_total['Language'] == 'en']\n",
    "\n",
    "# Display the rows where the language is English\n",
    "print(english_rows)"
   ]
  },
  {
   "cell_type": "markdown",
   "metadata": {},
   "source": [
    "We have chosen to use amenities and location-related words to add as controls for the model. We use an TFIDF matrix to find those words that are both unique and related to amenities and location. We remove stopwords and perform n-gramming before printing the list."
   ]
  },
  {
   "cell_type": "code",
   "execution_count": 138,
   "metadata": {},
   "outputs": [
    {
     "name": "stderr",
     "output_type": "stream",
     "text": [
      "[nltk_data] Downloading package stopwords to\n",
      "[nltk_data]     /Users/nataliabeltran/nltk_data...\n",
      "[nltk_data]   Package stopwords is already up-to-date!\n"
     ]
    },
    {
     "name": "stdout",
     "output_type": "stream",
     "text": [
      "['bitérmica' 'dificultades' 'hectáreas' ... 'alojamiento' 'km' 'alicante']\n"
     ]
    }
   ],
   "source": [
    "df_total['Description'] = df_total['Descriptions'].fillna('')\n",
    "df_total['Descriptions'] = df_total['Descriptions'].astype(str)\n",
    "\n",
    "from sklearn.feature_extraction.text import TfidfVectorizer\n",
    "import numpy as np\n",
    "\n",
    "nltk.download('stopwords')\n",
    "\n",
    "spanish_stopwords = stopwords.words('spanish')\n",
    "\n",
    "# Initialize the TF-IDF Vectorizer\n",
    "tfidf_vectorizer = TfidfVectorizer(analyzer='word', stop_words=spanish_stopwords, ngram_range=(1,1))\n",
    "\n",
    "# Fit and transform the processed descriptions to a TF-IDF matrix\n",
    "tfidf_matrix = tfidf_vectorizer.fit_transform(df_total['Descriptions'])\n",
    "\n",
    "# Get the feature names\n",
    "feature_names = np.array(tfidf_vectorizer.get_feature_names_out())\n",
    "\n",
    "# Sum the TF-IDF scores for each term across all documents\n",
    "sum_tfidf = tfidf_matrix.sum(axis=0)\n",
    "\n",
    "# Sort indices in descending order of TF-IDF scores\n",
    "sorted_indices = np.argsort(sum_tfidf).flatten()[::-1]\n",
    "\n",
    "# Get the top 500 words and their scores\n",
    "top_500_words = feature_names[sorted_indices[:500]]\n",
    "top_500_scores = np.array(sum_tfidf)[0, sorted_indices[:500]]\n",
    "\n",
    "# Print the top 100 words with their TF-IDF scores\n",
    "for word, score in zip(top_500_words, top_500_scores):\n",
    "    print(f\"{word}\")\n",
    "\n",
    "# Ensure that the data extracted is 1-dimensional\n",
    "top_500_words = feature_names[sorted_indices[:500]].flatten()\n",
    "top_500_scores = np.array(sum_tfidf)[0, sorted_indices[:500]].flatten()"
   ]
  },
  {
   "cell_type": "code",
   "execution_count": 139,
   "metadata": {},
   "outputs": [
    {
     "data": {
      "text/plain": [
       "array(['bitérmica', 'dificultades', 'hectáreas', ..., 'alojamiento', 'km',\n",
       "       'alicante'], dtype=object)"
      ]
     },
     "execution_count": 139,
     "metadata": {},
     "output_type": "execute_result"
    }
   ],
   "source": [
    "top_500_words"
   ]
  },
  {
   "cell_type": "markdown",
   "metadata": {},
   "source": [
    "The plot below implies that none of the words is much more unique than the other top words. Instead, the plot is quite uniform. This is good as it means we get a nice subset of words related to amenity and location that are all informative to a similar extent."
   ]
  },
  {
   "cell_type": "code",
   "execution_count": 140,
   "metadata": {},
   "outputs": [
    {
     "data": {
      "image/png": "[encoded data removed]",
      "text/plain": [
       "<Figure size 2000x1000 with 1 Axes>"
      ]
     },
     "metadata": {},
     "output_type": "display_data"
    }
   ],
   "source": [
    "#Now we plot the top words in the TFIDF matrix by their score\n",
    "top_df = pd.DataFrame({'word': top_500_words, 'tfidf score': top_500_scores})\n",
    "\n",
    "top_500_df = top_df[:500]\n",
    "\n",
    "top_50_df = top_500_df[:50]\n",
    "\n",
    "# Proceed to plot\n",
    "plt.figure(figsize=(20, 10))  # Adjust figure size for better visibility\n",
    "plt.bar(top_50_df['word'], top_50_df['tfidf score'], color='skyblue')\n",
    "\n",
    "plt.ylabel('TFIDF Score')\n",
    "plt.xlabel('Words')\n",
    "plt.title('Top 50 Words by TFIDF Scores')\n",
    "\n",
    "# Rotate the x labels to fit them better and set font size to small\n",
    "plt.xticks(rotation=90, fontsize=12)\n",
    "plt.yticks(fontsize=12)\n",
    "\n",
    "plt.tight_layout()  # Adjust layout\n",
    "plt.show()"
   ]
  },
  {
   "cell_type": "code",
   "execution_count": 141,
   "metadata": {},
   "outputs": [
    {
     "data": {
      "text/html": [
       "<div>\n",
       "<style scoped>\n",
       "    .dataframe tbody tr th:only-of-type {\n",
       "        vertical-align: middle;\n",
       "    }\n",
       "\n",
       "    .dataframe tbody tr th {\n",
       "        vertical-align: top;\n",
       "    }\n",
       "\n",
       "    .dataframe thead th {\n",
       "        text-align: right;\n",
       "    }\n",
       "</style>\n",
       "<table border=\"1\" class=\"dataframe\">\n",
       "  <thead>\n",
       "    <tr style=\"text-align: right;\">\n",
       "      <th></th>\n",
       "      <th>word</th>\n",
       "      <th>tfidf score</th>\n",
       "    </tr>\n",
       "  </thead>\n",
       "  <tbody>\n",
       "    <tr>\n",
       "      <th>0</th>\n",
       "      <td>bitérmica</td>\n",
       "      <td>0.108126</td>\n",
       "    </tr>\n",
       "    <tr>\n",
       "      <th>1</th>\n",
       "      <td>dificultades</td>\n",
       "      <td>0.114750</td>\n",
       "    </tr>\n",
       "    <tr>\n",
       "      <th>2</th>\n",
       "      <td>hectáreas</td>\n",
       "      <td>0.114750</td>\n",
       "    </tr>\n",
       "    <tr>\n",
       "      <th>3</th>\n",
       "      <td>respire</td>\n",
       "      <td>0.114750</td>\n",
       "    </tr>\n",
       "    <tr>\n",
       "      <th>4</th>\n",
       "      <td>participa</td>\n",
       "      <td>0.114750</td>\n",
       "    </tr>\n",
       "    <tr>\n",
       "      <th>...</th>\n",
       "      <td>...</td>\n",
       "      <td>...</td>\n",
       "    </tr>\n",
       "    <tr>\n",
       "      <th>495</th>\n",
       "      <td>1892</td>\n",
       "      <td>0.252923</td>\n",
       "    </tr>\n",
       "    <tr>\n",
       "      <th>496</th>\n",
       "      <td>besalú</td>\n",
       "      <td>0.253433</td>\n",
       "    </tr>\n",
       "    <tr>\n",
       "      <th>497</th>\n",
       "      <td>82</td>\n",
       "      <td>0.253433</td>\n",
       "    </tr>\n",
       "    <tr>\n",
       "      <th>498</th>\n",
       "      <td>tecnológicas</td>\n",
       "      <td>0.253758</td>\n",
       "    </tr>\n",
       "    <tr>\n",
       "      <th>499</th>\n",
       "      <td>pet</td>\n",
       "      <td>0.253758</td>\n",
       "    </tr>\n",
       "  </tbody>\n",
       "</table>\n",
       "<p>500 rows × 2 columns</p>\n",
       "</div>"
      ],
      "text/plain": [
       "             word  tfidf score\n",
       "0       bitérmica     0.108126\n",
       "1    dificultades     0.114750\n",
       "2       hectáreas     0.114750\n",
       "3         respire     0.114750\n",
       "4       participa     0.114750\n",
       "..            ...          ...\n",
       "495          1892     0.252923\n",
       "496        besalú     0.253433\n",
       "497            82     0.253433\n",
       "498  tecnológicas     0.253758\n",
       "499           pet     0.253758\n",
       "\n",
       "[500 rows x 2 columns]"
      ]
     },
     "execution_count": 141,
     "metadata": {},
     "output_type": "execute_result"
    }
   ],
   "source": [
    "top_500_df_words = top_500_df['word']\n",
    "top_500_df_words.to_csv('words_1')\n",
    "\n",
    "top_500_df"
   ]
  },
  {
   "cell_type": "markdown",
   "metadata": {},
   "source": [
    "Now we pick out the words from the top 500 that relate to amenities and location. We have been quite generous with inclusion criteria as we don't want too much researcher judgement to interfere with the results."
   ]
  },
  {
   "cell_type": "code",
   "execution_count": 142,
   "metadata": {},
   "outputs": [],
   "source": [
    "# Selected words from the top 500 ITFDF scores related to amenities and location:\n",
    "amenities_itfdf = [\n",
    "    \"bitérmica\",\"auriculares\",\"acqua\",\"cinema\",\"fumadores\",\"pizzas\",\"cocinilla\",\"cabina\",\"supervisados\",\n",
    "    \"terapeutas\",\"escúteres\",\"cancha\",\"lobby\",\"gel\",\"champú\",\"aparcamientos\",\"armarios\",\"limpias\",\n",
    "    \"toallero\",\"colchoneta\",\"secadores\",\"kitchen\",\"aseos\",\"intolerancias\",\"equipajes\",\"cocheras\",\n",
    "    \"garaje\",\"infinito\",\"bolera\",\"piscine\",\n",
    "]\n",
    "\n",
    "location_itfdf = [\n",
    "     \"bosque\",\"paisaje\",\"privilegiado\",\"circundantes\",\"proximidad\",\"naturaleza\",\"montseny\",\n",
    "    \"berceloneta\",\"pirineos\"\n",
    "]"
   ]
  },
  {
   "cell_type": "markdown",
   "metadata": {},
   "source": [
    "Now we find the top words across all documents. While these words are less informative about a single document than the TFIDF matrix because they are used widely across the dataset, their absence may also be a useful indicator."
   ]
  },
  {
   "cell_type": "code",
   "execution_count": 143,
   "metadata": {},
   "outputs": [
    {
     "name": "stdout",
     "output_type": "stream",
     "text": [
      "[('km', 7917), ('alojamiento', 6512), ('alicante', 6261), ('aeropuerto', 5503), ('ofrece', 4521), ('apartamento', 4428), ('barcelona', 4131), ('pie', 3735), ('aire', 3387), ('wifi', 3089), ('acondicionado', 2958), ('estación', 2865), ('cocina', 2749), ('tv', 2577), ('playa', 2503), ('minutos', 2442), ('gratis', 2390), ('baño', 2286), ('encuentra', 2265), ('habitaciones', 2215), ('hotel', 2144), ('cerca', 1955), ('metros', 1889), ('pantalla', 1819), ('plana', 1806), ('cama', 1763), ('nevera', 1760), ('vistas', 1726), ('terraza', 1720), ('interés', 1698), ('zona', 1691), ('min', 1675), ('tren', 1663), ('ropa', 1662), ('cercano', 1647), ('equipada', 1634), ('toallas', 1623), ('centro', 1588), ('privado', 1578), ('ducha', 1506), ('puntos', 1500), ('elche', 1490), ('miguel', 1489), ('hernández', 1488), ('metro', 1479), ('cuenta', 1407), ('plaza', 1393), ('museo', 1336), ('dispone', 1323), ('san', 1310), ('gratuita', 1307), ('ciudad', 1304), ('postiguet', 1278), ('dormitorios', 1254), ('totalmente', 1237), ('catedral', 1218), ('balcón', 1127), ('casa', 1096), ('secador', 1075), ('pelo', 1070), ('sala', 1063), ('españa', 1054), ('servicio', 1029), ('nicolás', 1021), ('apartamentos', 1008), ('cafetera', 1006), ('prat', 949), ('piscina', 941), ('explanada', 923), ('golf', 901), ('gracia', 886), ('10', 843), ('solo', 833), ('establecimiento', 818), ('arte', 793), ('artículos', 787), ('paseo', 787), ('aseo', 774), ('contemporáneo', 761), ('además', 759), ('todas', 756), ('barrio', 736), ('situado', 736), ('17', 729), ('15', 720), ('gratuitos', 710), ('platja', 700), ('recepción', 688), ('disponen', 686), ('consta', 665), ('microondas', 657), ('sagrada', 651), ('cataluña', 648), ('familia', 646), ('lavavajillas', 637), ('24', 625), ('menos', 615), ('batlló', 613), ('natura', 604), ('mar', 600), ('horno', 600), ('ramblas', 595), ('vía', 595), ('restaurantes', 589), ('horas', 587), ('gràcia', 587), ('dormitorio', 571), ('passeig', 556), ('pedrera', 552), ('bar', 548), ('satélite', 547), ('puede', 544), ('jardín', 528), ('conexión', 514), ('16', 512), ('bares', 510), ('incluyen', 506), ('baños', 495), ('terra', 492), ('lavadora', 484), ('libre', 482), ('cuentan', 480), ('sirve', 470), ('restaurante', 455), ('catalunya', 443), ('desayuno', 441), ('apartment', 429), ('comedor', 427), ('bien', 420), ('sant', 412), ('parking', 409), ('decoración', 392), ('apartments', 390), ('arqueológico', 387), ('provincial', 385), ('parque', 382), ('13', 377), ('bidet', 371), ('elegante', 369), ('hervidor', 367), ('información', 366), ('14', 360), ('gaudí', 356), ('acceso', 353), ('salón', 349), ('caja', 346), ('fuerte', 346), ('18', 344), ('bañera', 341), ('ubicado', 341), ('sants', 340), ('halla', 337), ('hostal', 337), ('mercado', 335), ('eixample', 317), ('tiendas', 314), ('12', 313), ('presentan', 308), ('patio', 307), ('alberga', 291), ('alquiler', 285), ('20', 280), ('pago', 280), ('200', 277), ('ir', 277), ('traslado', 276), ('alrededores', 274), ('diagonal', 273), ('moderno', 273), ('azotea', 273), ('edificio', 272), ('turística', 270), ('buffet', 269), ('elegantes', 269), ('wi', 264), ('fi', 264), ('cala', 261), ('incluye', 260), ('montjuïc', 259), ('volver', 257), ('privada', 256), ('teatro', 253), ('gran', 246), ('huéspedes', 246), ('minibar', 245), ('rambla', 244), ('junto', 240), ('personal', 239), ('encuentran', 237), ('autobús', 236), ('catalana', 235), ('44', 234), ('pueden', 231), ('suplemento', 231), ('santa', 230), ('música', 228), ('habitación', 224), ('barceloneta', 223), ('suelo', 223), ('ofrecen', 222), ('queda', 221), ('lugares', 220), ('distancia', 219), ('by', 214), ('temporada', 213), ('equipadas', 212), ('300', 212), ('practicar', 212), ('fuente', 208), ('cada', 207), ('canales', 206), ('aparcamiento', 204), ('boquería', 204), ('calefacción', 203), ('ubicación', 201), ('mágica', 201), ('puerto', 199), ('poca', 199), ('500', 199), ('palacio', 198), ('varios', 197), ('juan', 194), ('tívoli', 193), ('the', 193), ('uso', 191), ('gótico', 191), ('100', 191), ('comercial', 190), ('400', 189), ('gratuito', 188), ('proporciona', 188), ('11', 187), ('equipado', 186), ('19', 186), ('in', 182), ('escritorio', 180), ('mostrador', 179), ('central', 177), ('gimnasio', 176), ('diseño', 176), ('equipamiento', 175), ('and', 174), ('unidades', 174), ('bicicletas', 173), ('city', 173), ('fogones', 172), ('coches', 171), ('parada', 169), ('autobuses', 168), ('frente', 167), ('sofá', 167), ('chalet', 166), ('avenida', 165), ('600', 165), ('moderna', 165), ('with', 162), ('compartido', 160), ('montaña', 160), ('instalaciones', 159), ('mientras', 159), ('abierta', 159), ('suites', 158), ('nou', 155), ('modernos', 154), ('senderismo', 154), ('madera', 153), ('paradas', 153), ('numerosos', 153), ('platos', 150), ('internacional', 148), ('spa', 147), ('güell', 147), ('común', 146), ('pocos', 146), ('modernas', 146), ('inmediaciones', 145), ('somorrostro', 144), ('inglés', 143), ('histórico', 142), ('picasso', 142), ('center', 141), ('45', 139), ('beach', 139), ('albufereta', 136), ('villa', 134), ('boutique', 132), ('propio', 132), ('port', 131), ('camp', 130), ('agua', 130), ('nova', 130), ('español', 128), ('coche', 128), ('pleno', 127), ('amplias', 126), ('zonas', 125), ('hidromasaje', 125), ('50', 125), ('equipaje', 122), ('alojamientos', 121), ('pasos', 121), ('disfrutar', 121), ('tostadora', 121), ('sauna', 119), ('estilo', 117), ('céntrica', 117), ('acuático', 117), ('habla', 116), ('cable', 116), ('consigna', 114), ('ideal', 114), ('aqua', 113), ('catalonia', 112), ('compartida', 112), ('miquel', 111), ('portal', 110), ('presenta', 110), ('cafetería', 110), ('estaciones', 110), ('fira', 110), ('bebidas', 109), ('almadraba', 109), ('solárium', 108), ('disponible', 108), ('armario', 105), ('así', 105), ('corazón', 105), ('calle', 104), ('born', 104), ('estrellas', 103), ('región', 103), ('bella', 102), ('reproductor', 102), ('cafeterías', 102), ('maría', 102), ('situada', 100), ('variedad', 100), ('fitness', 99), ('mediterránea', 99), ('palau', 99), ('diario', 96), ('planta', 96), ('famoso', 96), ('pensión', 96), ('43', 96), ('house', 95), ('distrito', 94), ('rooms', 94), ('independientes', 94), ('directo', 92), ('internet', 92), ('público', 91), ('proporcionan', 91), ('plaça', 91), ('particular', 91), ('carta', 90), ('loft', 90), ('murcia', 90), ('bogatell', 89), ('café', 89), ('700', 88), ('sencilla', 87), ('ángel', 87), ('siglo', 86), ('aperitivos', 85), ('icària', 85), ('conexiones', 85), ('insonorizadas', 84), ('albergue', 84), ('dvd', 83), ('luminosas', 83), ('30', 83), ('bedroom', 83), ('goza', 82), ('campo', 82), ('bajo', 81), ('ciclismo', 81), ('situados', 80), ('compone', 79), ('barcelonés', 78), ('estadio', 77), ('infantil', 77), ('servicios', 76), ('liceu', 76), ('actividades', 76), ('edificios', 75), ('cócteles', 75), ('petición', 75), ('ocupa', 75), ('conserjería', 75), ('supermercados', 74), ('pesca', 74), ('famosas', 73), ('250', 73), ('transporte', 73), ('150', 73), ('calles', 73), ('cercana', 72), ('entradas', 72), ('encontrará', 72), ('urquinaona', 72), ('hostel', 72), ('productos', 71), ('bcn', 71), ('tapas', 71), ('continental', 71), ('palmera', 70), ('800', 70), ('colinas', 70), ('350', 69), ('famosa', 69), ('castillo', 69), ('modern', 69), ('xix', 68), ('independiente', 68), ('terrace', 68), ('27', 68), ('hospital', 67), ('mesa', 67), ('real', 66), ('humo', 66), ('amplia', 66), ('pequeña', 65), ('universitat', 65), ('juegos', 65), ('descubrir', 65), ('muchavista', 65), ('modernista', 64), ('parquet', 64), ('jordi', 64), ('natural', 64), ('bed', 64), ('llegar', 63), ('to', 63), ('cantalars', 63), ('días', 62), ('olimpic', 61), ('hallan', 61), ('quedan', 60), ('catalán', 60), ('00', 60), ('luminosos', 60), ('estudios', 60), ('practicando', 60), ('25', 59), ('conecta', 59), ('poble', 59), ('máquinas', 59), ('pau', 59), ('concatedral', 59), ('vestíbulo', 58), ('antoni', 58), ('locales', 58), ('aparthotel', 58), ('unidad', 58), ('48', 58), ('amplio', 57), ('alta', 57), ('ayudar', 57), ('cap', 57), ('varias', 56), ('comunicado', 56), ('numerosas', 56), ('asimismo', 56), ('sólo', 56), ('luxury', 56), ('clientela', 56), ('selección', 55), ('expendedoras', 55), ('doble', 55), ('utensilios', 55), ('42', 54), ('mañanas', 54), ('horta', 54), ('raval', 54), ('suite', 54), ('lujo', 53), ('breakfast', 53), ('llevant', 53), ('estancia', 52), ('muebles', 52), ('lavandería', 52), ('montjuic', 52), ('principal', 52), ('poblenou', 52), ('podrá', 52), ('deportivo', 52), ('exposiciones', 52), ('vitrocerámica', 52), ('sol', 52), ('exterior', 51), ('turístico', 51), ('barbacoa', 51), ('26', 51), ('obras', 50), ('excelente', 50), ('grande', 50), ('compartidas', 50), ('ac', 50), ('ordenador', 49)]\n"
     ]
    }
   ],
   "source": [
    "# Step 1: Initialize CountVectorizer\n",
    "# We don't set max_features=500 here because we first want to create the full document frequency matrix\n",
    "vectorizer = CountVectorizer(analyzer='word', stop_words=spanish_stopwords, ngram_range=(1,1))\n",
    "\n",
    "# Step 2: Fit the vectorizer to the 'Descriptions' and transform the text to a document frequency matrix\n",
    "X = vectorizer.fit_transform(df_total['Descriptions'])\n",
    "\n",
    "# Step 3: Sum the occurrence of each word across all documents to find the most used words\n",
    "word_counts = X.sum(axis=0)\n",
    "words_freq = [(word, word_counts[0, idx]) for word, idx in vectorizer.vocabulary_.items()]\n",
    "\n",
    "# Step 4: Sort the words by their frequency\n",
    "words_freq = sorted(words_freq, key=lambda x: x[1], reverse=True)\n",
    "\n",
    "pd.DataFrame(words_freq)\n",
    "\n",
    "# Step 5: Extract the top 500 words\n",
    "top_500_words_docfreq = words_freq[:500]\n",
    "\n",
    "# Convert the list of tuples into two lists: one for words and another for their corresponding frequencies\n",
    "words_freq_df = pd.DataFrame(words_freq)\n",
    "\n",
    "# Now `top_500_words_list` contains the top 500 most used words in the 'Descriptions' column\n",
    "print(top_500_words_docfreq)"
   ]
  },
  {
   "cell_type": "markdown",
   "metadata": {},
   "source": [
    "The plot below shows the words are distributed according to a Zipfian distribution as we would expect with natural language. Some words are really uninformative, like 'km' which is mentioned in nearly every document. However, most of the words are only mentioned in < 2000 documents, so are actually quite informative for subsetting the hotels."
   ]
  },
  {
   "cell_type": "code",
   "execution_count": 144,
   "metadata": {},
   "outputs": [
    {
     "data": {
      "image/png": "[encoded data removed]",
      "text/plain": [
       "<Figure size 2000x1000 with 1 Axes>"
      ]
     },
     "metadata": {},
     "output_type": "display_data"
    }
   ],
   "source": [
    "top_50_freq_df = words_freq_df[:50]\n",
    "\n",
    "# Proceed to plot\n",
    "plt.figure(figsize=(20, 10))  # Adjust figure size for better visibility\n",
    "plt.bar(top_50_freq_df[0], top_50_freq_df[1], color='skyblue')\n",
    "\n",
    "plt.ylabel('TFIDF Score')\n",
    "plt.xlabel('Words')\n",
    "plt.title('Top 50 Words by TFIDF Scores')\n",
    "\n",
    "# Rotate the x labels to fit them better and set font size to small\n",
    "plt.xticks(rotation=90, fontsize=12)\n",
    "plt.yticks(fontsize=12)\n",
    "\n",
    "plt.tight_layout()  # Adjust layout\n",
    "plt.show()"
   ]
  },
  {
   "cell_type": "code",
   "execution_count": 145,
   "metadata": {},
   "outputs": [],
   "source": [
    "top_500_words_freqdf = pd.DataFrame(top_500_words_docfreq)\n",
    "words_frequencies = top_500_words_freqdf[0]\n",
    "words_frequencies.to_csv('wordiewordsss')"
   ]
  },
  {
   "cell_type": "code",
   "execution_count": 146,
   "metadata": {},
   "outputs": [],
   "source": [
    "amenities_freq = amenities_related_words = [\n",
    "    \"wifi\",\"aire acondicionado\",\"cocina\",\"tv\",\"playa\",\"gratis\",\"baño\", \"habitaciones\",\n",
    "    \"pantalla plana\",\"cama\",\"nevera\",\"vistas\",\"terraza\",\"toallas\",\"ducha\",\"museo\",\n",
    "    \"piscina\",\"golf\",\"recepción\",\"microondas\",\"lavavajillas\",\"horno\",\"restaurante\",\n",
    "    \"desayuno\",\"comedor\",\"parking\",\"gimnasio\",\"spa\",\"sauna\",\"cafetera\",\"secador pelo\",\n",
    "    \"jardín\",\"servicio\",\"lavadora\",\"sala\",\"satélite\",\"bar\",\"minibar\",\"cafetería\",\n",
    "    \"cable\",\"bicicletas\",\"hidromasaje\",\"solárium\",\"tostadora\",\n",
    "]\n",
    "\n",
    "\n",
    "location_freq = location_related_words = [\n",
    "    \"alicante\",\"aeropuerto\",\"barcelona\",\"playa\",\"estación\",\"centro\",\"elche\",\n",
    "    \"ciudad\",\"museo\",\"sagrada\",\"familia\",\"catedral\",\"parque\",\"mercado\",\"eixample\",\n",
    "    \"montjuïc\",\"puerto\",\"palacio\",\"gótico\",\"ramblas\",\"explanada\",\"gracia\",\"passeig\",\n",
    "    \"pedrera\",\"batlló\",\"diagonal\",\"casa\",\"plaza\",\"san\",\"sants\",\"camp\",\"nou\",\"parc\",\n",
    "    \"güell\",\"postiguet\",\"terra\",\"mítica\",\"boquería\",\"plaça\",\"catalunya\",\"gràcia\",\n",
    "    \"barceloneta\",\"port\",\"vila\",\"olímpica\",\"llevant\",\"poblenou\",\"somorrostro\",\n",
    "    \"montjuic\",\"barri\",\"gòtic\",\"born\",\"raval\",\n",
    "]\n",
    "\n",
    "\n",
    "amenities = amenities_itfdf + amenities_freq\n",
    "location = location_itfdf + location_freq"
   ]
  },
  {
   "cell_type": "markdown",
   "metadata": {},
   "source": [
    "Now we count the number of occurances of the words in 'amenities' and the words in 'location' in each hotel's description and add them to two new columns."
   ]
  },
  {
   "cell_type": "code",
   "execution_count": 147,
   "metadata": {},
   "outputs": [
    {
     "data": {
      "text/html": [
       "<div>\n",
       "<style scoped>\n",
       "    .dataframe tbody tr th:only-of-type {\n",
       "        vertical-align: middle;\n",
       "    }\n",
       "\n",
       "    .dataframe tbody tr th {\n",
       "        vertical-align: top;\n",
       "    }\n",
       "\n",
       "    .dataframe thead th {\n",
       "        text-align: right;\n",
       "    }\n",
       "</style>\n",
       "<table border=\"1\" class=\"dataframe\">\n",
       "  <thead>\n",
       "    <tr style=\"text-align: right;\">\n",
       "      <th></th>\n",
       "      <th>Unnamed: 0</th>\n",
       "      <th>Hotel Name</th>\n",
       "      <th>Rating</th>\n",
       "      <th>Price</th>\n",
       "      <th>Descriptions</th>\n",
       "      <th>Treatment_Period</th>\n",
       "      <th>Treatment_City</th>\n",
       "      <th>Interaction_Period_City</th>\n",
       "      <th>Language</th>\n",
       "      <th>Description</th>\n",
       "      <th>amenities</th>\n",
       "      <th>location</th>\n",
       "    </tr>\n",
       "  </thead>\n",
       "  <tbody>\n",
       "    <tr>\n",
       "      <th>0</th>\n",
       "      <td>0</td>\n",
       "      <td>Room Mate Gerard</td>\n",
       "      <td>8,8</td>\n",
       "      <td>1100</td>\n",
       "      <td>El Room Mate Gerard en Barcelona ofrece alojam...</td>\n",
       "      <td>1</td>\n",
       "      <td>1</td>\n",
       "      <td>1</td>\n",
       "      <td>es</td>\n",
       "      <td>El Room Mate Gerard en Barcelona ofrece alojam...</td>\n",
       "      <td>16</td>\n",
       "      <td>10</td>\n",
       "    </tr>\n",
       "    <tr>\n",
       "      <th>1</th>\n",
       "      <td>1</td>\n",
       "      <td>Melia Barcelona Sarriá</td>\n",
       "      <td>8,2</td>\n",
       "      <td>1378</td>\n",
       "      <td>El Meliá Barcelona Sarriá cuenta con spa, gimn...</td>\n",
       "      <td>1</td>\n",
       "      <td>1</td>\n",
       "      <td>1</td>\n",
       "      <td>es</td>\n",
       "      <td>El Meliá Barcelona Sarriá cuenta con spa, gimn...</td>\n",
       "      <td>18</td>\n",
       "      <td>13</td>\n",
       "    </tr>\n",
       "    <tr>\n",
       "      <th>2</th>\n",
       "      <td>2</td>\n",
       "      <td>Catalonia Diagonal Centro</td>\n",
       "      <td>8,4</td>\n",
       "      <td>799</td>\n",
       "      <td>El Catalonia Diagonal Centro se encuentra en p...</td>\n",
       "      <td>1</td>\n",
       "      <td>1</td>\n",
       "      <td>1</td>\n",
       "      <td>es</td>\n",
       "      <td>El Catalonia Diagonal Centro se encuentra en p...</td>\n",
       "      <td>15</td>\n",
       "      <td>20</td>\n",
       "    </tr>\n",
       "    <tr>\n",
       "      <th>3</th>\n",
       "      <td>3</td>\n",
       "      <td>Barcelona with rooms and lofts in front of the...</td>\n",
       "      <td>7,0</td>\n",
       "      <td>224</td>\n",
       "      <td>Barcelona with rooms and lofts in front of the...</td>\n",
       "      <td>1</td>\n",
       "      <td>1</td>\n",
       "      <td>1</td>\n",
       "      <td>es</td>\n",
       "      <td>Barcelona with rooms and lofts in front of the...</td>\n",
       "      <td>5</td>\n",
       "      <td>14</td>\n",
       "    </tr>\n",
       "    <tr>\n",
       "      <th>4</th>\n",
       "      <td>4</td>\n",
       "      <td>TWO Hotel Barcelona by Axel 4* Sup- Adults Only</td>\n",
       "      <td>8,4</td>\n",
       "      <td>964</td>\n",
       "      <td>El TWO Hotel Barcelona by Axel está situado en...</td>\n",
       "      <td>1</td>\n",
       "      <td>1</td>\n",
       "      <td>1</td>\n",
       "      <td>es</td>\n",
       "      <td>El TWO Hotel Barcelona by Axel está situado en...</td>\n",
       "      <td>29</td>\n",
       "      <td>14</td>\n",
       "    </tr>\n",
       "  </tbody>\n",
       "</table>\n",
       "</div>"
      ],
      "text/plain": [
       "   Unnamed: 0                                         Hotel Name Rating  \\\n",
       "0           0                                   Room Mate Gerard    8,8   \n",
       "1           1                             Melia Barcelona Sarriá    8,2   \n",
       "2           2                          Catalonia Diagonal Centro    8,4   \n",
       "3           3  Barcelona with rooms and lofts in front of the...    7,0   \n",
       "4           4    TWO Hotel Barcelona by Axel 4* Sup- Adults Only    8,4   \n",
       "\n",
       "   Price                                       Descriptions  Treatment_Period  \\\n",
       "0   1100  El Room Mate Gerard en Barcelona ofrece alojam...                 1   \n",
       "1   1378  El Meliá Barcelona Sarriá cuenta con spa, gimn...                 1   \n",
       "2    799  El Catalonia Diagonal Centro se encuentra en p...                 1   \n",
       "3    224  Barcelona with rooms and lofts in front of the...                 1   \n",
       "4    964  El TWO Hotel Barcelona by Axel está situado en...                 1   \n",
       "\n",
       "   Treatment_City  Interaction_Period_City Language  \\\n",
       "0               1                        1       es   \n",
       "1               1                        1       es   \n",
       "2               1                        1       es   \n",
       "3               1                        1       es   \n",
       "4               1                        1       es   \n",
       "\n",
       "                                         Description  amenities  location  \n",
       "0  El Room Mate Gerard en Barcelona ofrece alojam...         16        10  \n",
       "1  El Meliá Barcelona Sarriá cuenta con spa, gimn...         18        13  \n",
       "2  El Catalonia Diagonal Centro se encuentra en p...         15        20  \n",
       "3  Barcelona with rooms and lofts in front of the...          5        14  \n",
       "4  El TWO Hotel Barcelona by Axel está situado en...         29        14  "
      ]
     },
     "execution_count": 147,
     "metadata": {},
     "output_type": "execute_result"
    }
   ],
   "source": [
    "df_total['amenities'] = 0\n",
    "df_total['location'] = 0\n",
    "\n",
    "def amenities_count(description):\n",
    "    # Lowercase the description to improve matching\n",
    "    description_lower = description.lower()\n",
    "    # Sum the occurrences of each amenity word in the description\n",
    "    return sum(description_lower.count(amenity.lower()) for amenity in amenities)\n",
    "\n",
    "# Apply the corrected function to each row in the 'Descriptions' column\n",
    "df_total['amenities'] = df_total['Descriptions'].apply(amenities_count)\n",
    "\n",
    "def location_count(description):\n",
    "    # Lowercase the description to improve matching\n",
    "    description_lower = description.lower()\n",
    "    # Sum the occurrences of each amenity word in the description\n",
    "    return sum(description_lower.count(location.lower()) for location in location)\n",
    "\n",
    "# Apply the corrected function to each row in the 'Descriptions' column\n",
    "df_total['location'] = df_total['Descriptions'].apply(location_count)\n",
    "df_total.head()"
   ]
  },
  {
   "cell_type": "markdown",
   "metadata": {},
   "source": [
    "Now we have to adjust the ratings and price columns. The ratings have commas for decimal points, and the prices have euro signs and points separating thousands from hundreds digits. We also impute missing ratings using KNN."
   ]
  },
  {
   "cell_type": "code",
   "execution_count": 148,
   "metadata": {},
   "outputs": [
    {
     "data": {
      "text/html": [
       "<div>\n",
       "<style scoped>\n",
       "    .dataframe tbody tr th:only-of-type {\n",
       "        vertical-align: middle;\n",
       "    }\n",
       "\n",
       "    .dataframe tbody tr th {\n",
       "        vertical-align: top;\n",
       "    }\n",
       "\n",
       "    .dataframe thead th {\n",
       "        text-align: right;\n",
       "    }\n",
       "</style>\n",
       "<table border=\"1\" class=\"dataframe\">\n",
       "  <thead>\n",
       "    <tr style=\"text-align: right;\">\n",
       "      <th></th>\n",
       "      <th>Unnamed: 0</th>\n",
       "      <th>Hotel Name</th>\n",
       "      <th>Rating</th>\n",
       "      <th>Price</th>\n",
       "      <th>Descriptions</th>\n",
       "      <th>Treatment_Period</th>\n",
       "      <th>Treatment_City</th>\n",
       "      <th>Interaction_Period_City</th>\n",
       "      <th>Language</th>\n",
       "      <th>Description</th>\n",
       "      <th>amenities</th>\n",
       "      <th>location</th>\n",
       "    </tr>\n",
       "  </thead>\n",
       "  <tbody>\n",
       "    <tr>\n",
       "      <th>0</th>\n",
       "      <td>0</td>\n",
       "      <td>Room Mate Gerard</td>\n",
       "      <td>8.8</td>\n",
       "      <td>1100.0</td>\n",
       "      <td>El Room Mate Gerard en Barcelona ofrece alojam...</td>\n",
       "      <td>1</td>\n",
       "      <td>1</td>\n",
       "      <td>1</td>\n",
       "      <td>es</td>\n",
       "      <td>El Room Mate Gerard en Barcelona ofrece alojam...</td>\n",
       "      <td>16</td>\n",
       "      <td>10</td>\n",
       "    </tr>\n",
       "    <tr>\n",
       "      <th>1</th>\n",
       "      <td>1</td>\n",
       "      <td>Melia Barcelona Sarriá</td>\n",
       "      <td>8.2</td>\n",
       "      <td>1378.0</td>\n",
       "      <td>El Meliá Barcelona Sarriá cuenta con spa, gimn...</td>\n",
       "      <td>1</td>\n",
       "      <td>1</td>\n",
       "      <td>1</td>\n",
       "      <td>es</td>\n",
       "      <td>El Meliá Barcelona Sarriá cuenta con spa, gimn...</td>\n",
       "      <td>18</td>\n",
       "      <td>13</td>\n",
       "    </tr>\n",
       "    <tr>\n",
       "      <th>2</th>\n",
       "      <td>2</td>\n",
       "      <td>Catalonia Diagonal Centro</td>\n",
       "      <td>8.4</td>\n",
       "      <td>799.0</td>\n",
       "      <td>El Catalonia Diagonal Centro se encuentra en p...</td>\n",
       "      <td>1</td>\n",
       "      <td>1</td>\n",
       "      <td>1</td>\n",
       "      <td>es</td>\n",
       "      <td>El Catalonia Diagonal Centro se encuentra en p...</td>\n",
       "      <td>15</td>\n",
       "      <td>20</td>\n",
       "    </tr>\n",
       "    <tr>\n",
       "      <th>3</th>\n",
       "      <td>3</td>\n",
       "      <td>Barcelona with rooms and lofts in front of the...</td>\n",
       "      <td>7.0</td>\n",
       "      <td>224.0</td>\n",
       "      <td>Barcelona with rooms and lofts in front of the...</td>\n",
       "      <td>1</td>\n",
       "      <td>1</td>\n",
       "      <td>1</td>\n",
       "      <td>es</td>\n",
       "      <td>Barcelona with rooms and lofts in front of the...</td>\n",
       "      <td>5</td>\n",
       "      <td>14</td>\n",
       "    </tr>\n",
       "    <tr>\n",
       "      <th>4</th>\n",
       "      <td>4</td>\n",
       "      <td>TWO Hotel Barcelona by Axel 4* Sup- Adults Only</td>\n",
       "      <td>8.4</td>\n",
       "      <td>964.0</td>\n",
       "      <td>El TWO Hotel Barcelona by Axel está situado en...</td>\n",
       "      <td>1</td>\n",
       "      <td>1</td>\n",
       "      <td>1</td>\n",
       "      <td>es</td>\n",
       "      <td>El TWO Hotel Barcelona by Axel está situado en...</td>\n",
       "      <td>29</td>\n",
       "      <td>14</td>\n",
       "    </tr>\n",
       "  </tbody>\n",
       "</table>\n",
       "</div>"
      ],
      "text/plain": [
       "   Unnamed: 0                                         Hotel Name  Rating  \\\n",
       "0           0                                   Room Mate Gerard     8.8   \n",
       "1           1                             Melia Barcelona Sarriá     8.2   \n",
       "2           2                          Catalonia Diagonal Centro     8.4   \n",
       "3           3  Barcelona with rooms and lofts in front of the...     7.0   \n",
       "4           4    TWO Hotel Barcelona by Axel 4* Sup- Adults Only     8.4   \n",
       "\n",
       "    Price                                       Descriptions  \\\n",
       "0  1100.0  El Room Mate Gerard en Barcelona ofrece alojam...   \n",
       "1  1378.0  El Meliá Barcelona Sarriá cuenta con spa, gimn...   \n",
       "2   799.0  El Catalonia Diagonal Centro se encuentra en p...   \n",
       "3   224.0  Barcelona with rooms and lofts in front of the...   \n",
       "4   964.0  El TWO Hotel Barcelona by Axel está situado en...   \n",
       "\n",
       "   Treatment_Period  Treatment_City  Interaction_Period_City Language  \\\n",
       "0                 1               1                        1       es   \n",
       "1                 1               1                        1       es   \n",
       "2                 1               1                        1       es   \n",
       "3                 1               1                        1       es   \n",
       "4                 1               1                        1       es   \n",
       "\n",
       "                                         Description  amenities  location  \n",
       "0  El Room Mate Gerard en Barcelona ofrece alojam...         16        10  \n",
       "1  El Meliá Barcelona Sarriá cuenta con spa, gimn...         18        13  \n",
       "2  El Catalonia Diagonal Centro se encuentra en p...         15        20  \n",
       "3  Barcelona with rooms and lofts in front of the...          5        14  \n",
       "4  El TWO Hotel Barcelona by Axel está situado en...         29        14  "
      ]
     },
     "execution_count": 148,
     "metadata": {},
     "output_type": "execute_result"
    }
   ],
   "source": [
    "#First we need to convert the comma to a dot:\n",
    "df_total['Rating'] = df_total['Rating'].str.replace(',', '.').astype(float)\n",
    "\n",
    "#And convert price to a float:\n",
    "df_total['Price'] = df_total['Price'].astype(float)\n",
    "\n",
    "#Now we impute NAs:\n",
    "from sklearn.impute import KNNImputer\n",
    "data_for_imputation = df_total[['Rating']]\n",
    "imputer = KNNImputer(n_neighbors=10)\n",
    "data_imputed = imputer.fit_transform(data_for_imputation)\n",
    "df_total['Rating'] = data_imputed[:, 0]\n",
    "df_total.head()"
   ]
  },
  {
   "cell_type": "markdown",
   "metadata": {},
   "source": [
    "Because we are going to control for rating as well in the regression, we wanted to check how well the text controls correlate with rating to ensure we are not controlling for the same thing twice. We find that there is a very weak, but statistically significant correlation between amenities with rating. This is to be expected given many more factors make up rating than just amenities, but also means we are likely controlling more information by including the two textual controls than if we just controlled by rating."
   ]
  },
  {
   "cell_type": "code",
   "execution_count": 149,
   "metadata": {},
   "outputs": [
    {
     "data": {
      "text/html": [
       "<table class=\"simpletable\">\n",
       "<caption>OLS Regression Results</caption>\n",
       "<tr>\n",
       "  <th>Dep. Variable:</th>         <td>Rating</td>      <th>  R-squared:         </th> <td>   0.065</td> \n",
       "</tr>\n",
       "<tr>\n",
       "  <th>Model:</th>                   <td>OLS</td>       <th>  Adj. R-squared:    </th> <td>   0.065</td> \n",
       "</tr>\n",
       "<tr>\n",
       "  <th>Method:</th>             <td>Least Squares</td>  <th>  F-statistic:       </th> <td>   131.2</td> \n",
       "</tr>\n",
       "<tr>\n",
       "  <th>Date:</th>             <td>Sun, 04 Feb 2024</td> <th>  Prob (F-statistic):</th> <td>8.31e-56</td> \n",
       "</tr>\n",
       "<tr>\n",
       "  <th>Time:</th>                 <td>19:04:11</td>     <th>  Log-Likelihood:    </th> <td> -5275.0</td> \n",
       "</tr>\n",
       "<tr>\n",
       "  <th>No. Observations:</th>      <td>  3769</td>      <th>  AIC:               </th> <td>1.056e+04</td>\n",
       "</tr>\n",
       "<tr>\n",
       "  <th>Df Residuals:</th>          <td>  3766</td>      <th>  BIC:               </th> <td>1.057e+04</td>\n",
       "</tr>\n",
       "<tr>\n",
       "  <th>Df Model:</th>              <td>     2</td>      <th>                     </th>     <td> </td>    \n",
       "</tr>\n",
       "<tr>\n",
       "  <th>Covariance Type:</th>      <td>nonrobust</td>    <th>                     </th>     <td> </td>    \n",
       "</tr>\n",
       "</table>\n",
       "<table class=\"simpletable\">\n",
       "<tr>\n",
       "      <td></td>         <th>coef</th>     <th>std err</th>      <th>t</th>      <th>P>|t|</th>  <th>[0.025</th>    <th>0.975]</th>  \n",
       "</tr>\n",
       "<tr>\n",
       "  <th>const</th>     <td>    7.3289</td> <td>    0.077</td> <td>   94.778</td> <td> 0.000</td> <td>    7.177</td> <td>    7.480</td>\n",
       "</tr>\n",
       "<tr>\n",
       "  <th>amenities</th> <td>    0.0585</td> <td>    0.004</td> <td>   16.122</td> <td> 0.000</td> <td>    0.051</td> <td>    0.066</td>\n",
       "</tr>\n",
       "<tr>\n",
       "  <th>location</th>  <td>    0.0010</td> <td>    0.004</td> <td>    0.242</td> <td> 0.809</td> <td>   -0.007</td> <td>    0.009</td>\n",
       "</tr>\n",
       "</table>\n",
       "<table class=\"simpletable\">\n",
       "<tr>\n",
       "  <th>Omnibus:</th>       <td>1594.018</td> <th>  Durbin-Watson:     </th> <td>   1.879</td> \n",
       "</tr>\n",
       "<tr>\n",
       "  <th>Prob(Omnibus):</th>  <td> 0.000</td>  <th>  Jarque-Bera (JB):  </th> <td>12249.378</td>\n",
       "</tr>\n",
       "<tr>\n",
       "  <th>Skew:</th>           <td>-1.831</td>  <th>  Prob(JB):          </th> <td>    0.00</td> \n",
       "</tr>\n",
       "<tr>\n",
       "  <th>Kurtosis:</th>       <td>11.037</td>  <th>  Cond. No.          </th> <td>    103.</td> \n",
       "</tr>\n",
       "</table><br/><br/>Notes:<br/>[1] Standard Errors assume that the covariance matrix of the errors is correctly specified."
      ],
      "text/latex": [
       "\\begin{center}\n",
       "\\begin{tabular}{lclc}\n",
       "\\toprule\n",
       "\\textbf{Dep. Variable:}    &      Rating      & \\textbf{  R-squared:         } &     0.065   \\\\\n",
       "\\textbf{Model:}            &       OLS        & \\textbf{  Adj. R-squared:    } &     0.065   \\\\\n",
       "\\textbf{Method:}           &  Least Squares   & \\textbf{  F-statistic:       } &     131.2   \\\\\n",
       "\\textbf{Date:}             & Sun, 04 Feb 2024 & \\textbf{  Prob (F-statistic):} &  8.31e-56   \\\\\n",
       "\\textbf{Time:}             &     19:04:11     & \\textbf{  Log-Likelihood:    } &   -5275.0   \\\\\n",
       "\\textbf{No. Observations:} &        3769      & \\textbf{  AIC:               } & 1.056e+04   \\\\\n",
       "\\textbf{Df Residuals:}     &        3766      & \\textbf{  BIC:               } & 1.057e+04   \\\\\n",
       "\\textbf{Df Model:}         &           2      & \\textbf{                     } &             \\\\\n",
       "\\textbf{Covariance Type:}  &    nonrobust     & \\textbf{                     } &             \\\\\n",
       "\\bottomrule\n",
       "\\end{tabular}\n",
       "\\begin{tabular}{lcccccc}\n",
       "                   & \\textbf{coef} & \\textbf{std err} & \\textbf{t} & \\textbf{P$> |$t$|$} & \\textbf{[0.025} & \\textbf{0.975]}  \\\\\n",
       "\\midrule\n",
       "\\textbf{const}     &       7.3289  &        0.077     &    94.778  &         0.000        &        7.177    &        7.480     \\\\\n",
       "\\textbf{amenities} &       0.0585  &        0.004     &    16.122  &         0.000        &        0.051    &        0.066     \\\\\n",
       "\\textbf{location}  &       0.0010  &        0.004     &     0.242  &         0.809        &       -0.007    &        0.009     \\\\\n",
       "\\bottomrule\n",
       "\\end{tabular}\n",
       "\\begin{tabular}{lclc}\n",
       "\\textbf{Omnibus:}       & 1594.018 & \\textbf{  Durbin-Watson:     } &     1.879  \\\\\n",
       "\\textbf{Prob(Omnibus):} &   0.000  & \\textbf{  Jarque-Bera (JB):  } & 12249.378  \\\\\n",
       "\\textbf{Skew:}          &  -1.831  & \\textbf{  Prob(JB):          } &      0.00  \\\\\n",
       "\\textbf{Kurtosis:}      &  11.037  & \\textbf{  Cond. No.          } &      103.  \\\\\n",
       "\\bottomrule\n",
       "\\end{tabular}\n",
       "%\\caption{OLS Regression Results}\n",
       "\\end{center}\n",
       "\n",
       "Notes: \\newline\n",
       " [1] Standard Errors assume that the covariance matrix of the errors is correctly specified."
      ],
      "text/plain": [
       "<class 'statsmodels.iolib.summary.Summary'>\n",
       "\"\"\"\n",
       "                            OLS Regression Results                            \n",
       "==============================================================================\n",
       "Dep. Variable:                 Rating   R-squared:                       0.065\n",
       "Model:                            OLS   Adj. R-squared:                  0.065\n",
       "Method:                 Least Squares   F-statistic:                     131.2\n",
       "Date:                Sun, 04 Feb 2024   Prob (F-statistic):           8.31e-56\n",
       "Time:                        19:04:11   Log-Likelihood:                -5275.0\n",
       "No. Observations:                3769   AIC:                         1.056e+04\n",
       "Df Residuals:                    3766   BIC:                         1.057e+04\n",
       "Df Model:                           2                                         \n",
       "Covariance Type:            nonrobust                                         \n",
       "==============================================================================\n",
       "                 coef    std err          t      P>|t|      [0.025      0.975]\n",
       "------------------------------------------------------------------------------\n",
       "const          7.3289      0.077     94.778      0.000       7.177       7.480\n",
       "amenities      0.0585      0.004     16.122      0.000       0.051       0.066\n",
       "location       0.0010      0.004      0.242      0.809      -0.007       0.009\n",
       "==============================================================================\n",
       "Omnibus:                     1594.018   Durbin-Watson:                   1.879\n",
       "Prob(Omnibus):                  0.000   Jarque-Bera (JB):            12249.378\n",
       "Skew:                          -1.831   Prob(JB):                         0.00\n",
       "Kurtosis:                      11.037   Cond. No.                         103.\n",
       "==============================================================================\n",
       "\n",
       "Notes:\n",
       "[1] Standard Errors assume that the covariance matrix of the errors is correctly specified.\n",
       "\"\"\""
      ]
     },
     "execution_count": 149,
     "metadata": {},
     "output_type": "execute_result"
    }
   ],
   "source": [
    "#how do these words correlate with ratings?\n",
    "df_total['Rating'] = pd.to_numeric(df_total['Rating'])\n",
    "\n",
    "# Define the independent variables (X) and the dependent variable (y)\n",
    "X = df_total[['amenities', 'location']]  # Independent variables\n",
    "y = df_total['Rating']  \n",
    "\n",
    "# Add a constant to the model (intercept)\n",
    "X = sm.add_constant(X)\n",
    "\n",
    "# Create the OLS model\n",
    "model = sm.OLS(y, X).fit()\n",
    "\n",
    "# Print the summary of the regression\n",
    "model_summary = model.summary()\n",
    "model_summary"
   ]
  },
  {
   "cell_type": "markdown",
   "metadata": {},
   "source": [
    "In this final regression model, we aimed to enhance the analysis by incorporating relevant terms from the document term matrix that are correlated with hotel pricing. The coefficient for 'Treatment_Interaction' is 350.6808, and it remains highly statistically significant (p-value < 0.001), suggesting that the event occurring in Barcelona during the specified time period indeed has a positive influence on hotel pricing. This supports the notion that the SONAR festival in Barcelona contributes to an increase in hotel prices.\n",
    "<br>\n",
    "<br>\n",
    "Furthermore, we explored the impact of other factors on hotel prices. The coefficients for 'Rating,' 'Amenities' and 'Location' provide insights into how these descriptive elements in hotel listings are associated with pricing. It's worth noting that the coefficient for 'Location' is statistically significant (p-value = 0.034), indicating that the geographical location has a discernible influence on hotel prices.\n",
    "<br>\n",
    "<br>\n",
    "There is an interaction effect between the city and period, which means one of the cities may exhibit a price change during the treatment week but the other does not. To test this, we run the regression separately for each city."
   ]
  },
  {
   "cell_type": "code",
   "execution_count": 150,
   "metadata": {},
   "outputs": [
    {
     "name": "stdout",
     "output_type": "stream",
     "text": [
      "                            OLS Regression Results                            \n",
      "==============================================================================\n",
      "Dep. Variable:                  Price   R-squared:                       0.208\n",
      "Model:                            OLS   Adj. R-squared:                  0.207\n",
      "Method:                 Least Squares   F-statistic:                     165.1\n",
      "Date:                Sun, 04 Feb 2024   Prob (F-statistic):          9.65e-187\n",
      "Time:                        19:04:11   Log-Likelihood:                -30039.\n",
      "No. Observations:                3769   AIC:                         6.009e+04\n",
      "Df Residuals:                    3762   BIC:                         6.014e+04\n",
      "Df Model:                           6                                         \n",
      "Covariance Type:            nonrobust                                         \n",
      "=========================================================================================\n",
      "                            coef    std err          t      P>|t|      [0.025      0.975]\n",
      "-----------------------------------------------------------------------------------------\n",
      "const                    43.8220    110.200      0.398      0.691    -172.236     259.880\n",
      "Treatment_Period         47.6816     33.365      1.429      0.153     -17.734     113.098\n",
      "Treatment_City          485.3984     33.228     14.608      0.000     420.252     550.545\n",
      "Treatment_Interaction   350.6808     45.770      7.662      0.000     260.945     440.416\n",
      "Rating                   21.9768     11.752      1.870      0.062      -1.063      45.017\n",
      "amenities                19.9749      2.682      7.448      0.000      14.716      25.233\n",
      "location                  6.2529      2.940      2.127      0.034       0.488      12.018\n",
      "==============================================================================\n",
      "Omnibus:                     5164.935   Durbin-Watson:                   1.039\n",
      "Prob(Omnibus):                  0.000   Jarque-Bera (JB):          3174766.890\n",
      "Skew:                           7.449   Prob(JB):                         0.00\n",
      "Kurtosis:                     144.401   Cond. No.                         223.\n",
      "==============================================================================\n",
      "\n",
      "Notes:\n",
      "[1] Standard Errors assume that the covariance matrix of the errors is correctly specified.\n"
     ]
    }
   ],
   "source": [
    "df_total['Treatment_Interaction'] = df_total['Treatment_City'] * df_total['Treatment_Period']\n",
    "\n",
    "import statsmodels.api as sm\n",
    "\n",
    "X = df_total[['Treatment_Period', 'Treatment_City', 'Treatment_Interaction', 'Rating', 'amenities', 'location']]\n",
    "X = sm.add_constant(X)\n",
    "\n",
    "y = df_total['Price']  # Making sure 'Price' is of float type for the regression\n",
    "\n",
    "# Running the regression\n",
    "model = sm.OLS(y, X).fit()\n",
    "\n",
    "print(model.summary())"
   ]
  },
  {
   "cell_type": "markdown",
   "metadata": {},
   "source": [
    "#### Difference in Differences Plot"
   ]
  },
  {
   "cell_type": "code",
   "execution_count": 151,
   "metadata": {},
   "outputs": [
    {
     "data": {
      "image/png": "[encoded data removed]",
      "text/plain": [
       "<Figure size 1000x600 with 1 Axes>"
      ]
     },
     "metadata": {},
     "output_type": "display_data"
    }
   ],
   "source": [
    "# Calculate the averages again if needed\n",
    "grouped = df_total.groupby(['Treatment_City', 'Treatment_Period'])['Price'].mean().unstack()\n",
    "\n",
    "# Plot\n",
    "fig, ax = plt.subplots(figsize=(10, 6))\n",
    "city_names = {0: 'Alicante', 1: 'Barcelona'}  \n",
    "\n",
    "# Plot each group with a loop to manually control colors, markers, etc.\n",
    "for city_code, group_data in grouped.iterrows():\n",
    "    group_data.plot(ax=ax, label=city_names.get(city_code, f'City {city_code}'))\n",
    "\n",
    "ax.set_title('Difference-in-Differences Plot of Price')\n",
    "ax.set_ylabel('Average Price')\n",
    "ax.set_xlabel('Period')\n",
    "ax.set_xticks([0, 1])\n",
    "ax.set_xticklabels(['Before Treatment', 'After Treatment'], rotation=0)\n",
    "\n",
    "# Add legend\n",
    "ax.legend(title=\"City Type\")\n",
    "\n",
    "plt.show()"
   ]
  },
  {
   "cell_type": "markdown",
   "metadata": {},
   "source": [
    "#### Additional insight with regressions separately for Barcelona and Alicante"
   ]
  },
  {
   "cell_type": "markdown",
   "metadata": {},
   "source": [
    "Treatment period is indeed significant for Barcelona hotel prices. The price is significantly higher during the treatment period when the event occurs. The location control was also significant, implying that the price change is not constant in hotels across the city, and the rating control is significant, implying the change in price is greater at either higher or lower end hotels.  "
   ]
  },
  {
   "cell_type": "code",
   "execution_count": 152,
   "metadata": {},
   "outputs": [
    {
     "name": "stdout",
     "output_type": "stream",
     "text": [
      "                            OLS Regression Results                            \n",
      "==============================================================================\n",
      "Dep. Variable:                  Price   R-squared:                       0.068\n",
      "Model:                            OLS   Adj. R-squared:                  0.066\n",
      "Method:                 Least Squares   F-statistic:                     36.44\n",
      "Date:                Sun, 04 Feb 2024   Prob (F-statistic):           1.95e-29\n",
      "Time:                        19:04:12   Log-Likelihood:                -16371.\n",
      "No. Observations:                2004   AIC:                         3.275e+04\n",
      "Df Residuals:                    1999   BIC:                         3.278e+04\n",
      "Df Model:                           4                                         \n",
      "Covariance Type:            nonrobust                                         \n",
      "====================================================================================\n",
      "                       coef    std err          t      P>|t|      [0.025      0.975]\n",
      "------------------------------------------------------------------------------------\n",
      "const              264.9265    180.043      1.471      0.141     -88.165     618.018\n",
      "Treatment_Period   398.6590     38.265     10.418      0.000     323.616     473.702\n",
      "Rating              47.7348     21.116      2.261      0.024       6.322      89.147\n",
      "amenities           13.0510      4.133      3.158      0.002       4.947      21.155\n",
      "location            17.8879      4.593      3.895      0.000       8.881      26.895\n",
      "==============================================================================\n",
      "Omnibus:                     2627.300   Durbin-Watson:                   1.044\n",
      "Prob(Omnibus):                  0.000   Jarque-Bera (JB):          1094009.199\n",
      "Skew:                           6.823   Prob(JB):                         0.00\n",
      "Kurtosis:                     116.647   Cond. No.                         208.\n",
      "==============================================================================\n",
      "\n",
      "Notes:\n",
      "[1] Standard Errors assume that the covariance matrix of the errors is correctly specified.\n"
     ]
    }
   ],
   "source": [
    "data_barcelona = df_total[df_total['Treatment_City'] == 1]\n",
    "data_alicante = df_total[df_total['Treatment_City'] == 0]\n",
    "\n",
    "#Running the regression again for Barcelona:\n",
    "X_barcelona = data_barcelona[['Treatment_Period', 'Rating', 'amenities', 'location']]\n",
    "X_barcelona = sm.add_constant(X_barcelona)\n",
    "\n",
    "y_barcelona = data_barcelona['Price']\n",
    "\n",
    "model = sm.OLS(y_barcelona, X_barcelona).fit()\n",
    "\n",
    "print(model.summary())"
   ]
  },
  {
   "cell_type": "markdown",
   "metadata": {},
   "source": [
    "The treatment effect is also significant for Alicante, albeit with a far smaller effect size. It is odd that the treatment period was not significant when averaged across the two cities, but this can happen, especially when the sample sizes are dissimilar. There may be a factor influencing hotel prices across Spain (or a region of it), and then another factor influencing just Barcelona hotel prices. There are likely many factors that influence hotel prices, especially in a large city like Barcelona, so this result is reasonable."
   ]
  },
  {
   "cell_type": "code",
   "execution_count": 153,
   "metadata": {},
   "outputs": [
    {
     "name": "stdout",
     "output_type": "stream",
     "text": [
      "                            OLS Regression Results                            \n",
      "==============================================================================\n",
      "Dep. Variable:                  Price   R-squared:                       0.073\n",
      "Model:                            OLS   Adj. R-squared:                  0.071\n",
      "Method:                 Least Squares   F-statistic:                     34.47\n",
      "Date:                Sun, 04 Feb 2024   Prob (F-statistic):           9.77e-28\n",
      "Time:                        19:04:12   Log-Likelihood:                -13313.\n",
      "No. Observations:                1765   AIC:                         2.664e+04\n",
      "Df Residuals:                    1760   BIC:                         2.666e+04\n",
      "Df Model:                           4                                         \n",
      "Covariance Type:            nonrobust                                         \n",
      "====================================================================================\n",
      "                       coef    std err          t      P>|t|      [0.025      0.975]\n",
      "------------------------------------------------------------------------------------\n",
      "const              378.1986    101.745      3.717      0.000     178.645     577.753\n",
      "Treatment_Period    48.7209     21.782      2.237      0.025       5.999      91.443\n",
      "Rating              -3.9950     10.472     -0.382      0.703     -24.533      16.543\n",
      "amenities           31.1385      2.874     10.834      0.000      25.502      36.775\n",
      "location           -11.9655      3.075     -3.891      0.000     -17.997      -5.934\n",
      "==============================================================================\n",
      "Omnibus:                     2010.602   Durbin-Watson:                   1.077\n",
      "Prob(Omnibus):                  0.000   Jarque-Bera (JB):           214383.888\n",
      "Skew:                           5.714   Prob(JB):                         0.00\n",
      "Kurtosis:                      55.769   Cond. No.                         223.\n",
      "==============================================================================\n",
      "\n",
      "Notes:\n",
      "[1] Standard Errors assume that the covariance matrix of the errors is correctly specified.\n"
     ]
    }
   ],
   "source": [
    "#Running the regression again for Alicante:\n",
    "X_alicante = data_alicante[['Treatment_Period', 'Rating', 'amenities', 'location']]\n",
    "X_alicante = sm.add_constant(X_alicante)\n",
    "\n",
    "y_alicante = data_alicante['Price']\n",
    "\n",
    "model = sm.OLS(y_alicante, X_alicante).fit()\n",
    "\n",
    "print(model.summary())"
   ]
  },
  {
   "cell_type": "markdown",
   "metadata": {},
   "source": [
    "### Standard Regression Table "
   ]
  },
  {
   "cell_type": "markdown",
   "metadata": {},
   "source": [
    "Complete table for the four columns"
   ]
  },
  {
   "cell_type": "code",
   "execution_count": 154,
   "metadata": {},
   "outputs": [
    {
     "name": "stdout",
     "output_type": "stream",
     "text": [
      "\n",
      "=======================================================================\n",
      "                          Price I     Price II   Price III   Price IIII\n",
      "-----------------------------------------------------------------------\n",
      "const                   871.2020*** 654.9054*** 634.0675*** 378.1986***\n",
      "                        (17.8976)   (17.1934)   (23.7309)   (101.7451) \n",
      "Treatment_Period        234.1026***             41.9850     48.7209**  \n",
      "                        (25.3548)               (33.6849)   (21.7825)  \n",
      "Treatment_City                      626.1809*** 447.5263***            \n",
      "                                    (23.5791)   (32.6007)              \n",
      "Interaction_Period_City                         357.0000***            \n",
      "                                                (46.1949)              \n",
      "Rating                                                      -3.9950    \n",
      "                                                            (10.4718)  \n",
      "amenities                                                   31.1385*** \n",
      "                                                            (2.8740)   \n",
      "location                                                    -11.9655***\n",
      "                                                            (3.0751)   \n",
      "R-squared               0.0221      0.1577      0.1922      0.0726     \n",
      "R-squared Adj.          0.0219      0.1575      0.1916      0.0705     \n",
      "=======================================================================\n",
      "Standard errors in parentheses.\n",
      "* p<.1, ** p<.05, ***p<.01\n"
     ]
    }
   ],
   "source": [
    "# Create a summary table\n",
    "summary_table = summary_col([ols_period, ols_city, ols_interaction, model], stars=True)\n",
    "print(summary_table)"
   ]
  },
  {
   "cell_type": "markdown",
   "metadata": {},
   "source": [
    "## 8. Hotel Fixed Effect Regression "
   ]
  },
  {
   "cell_type": "markdown",
   "metadata": {},
   "source": [
    "Fixed effects would mean controlling for all unobserved features of the hotels that are constant over time. This would counteract any heterogeneity between hotels that could moderate the effect of the treatment on prices. The hotels become many observations of the same variable, varying only by city and time period (the independent variables of interest), so we can be sure that any observed effect is explained completely by these variables. By controlling for rating, amenities, and location, we have reduced at least a portion of the heterogeneity between hotels, so the significant effect we observed is unlikely to be affected by the quality of the hotel or its location."
   ]
  }
 ],
 "metadata": {
  "kernelspec": {
   "display_name": "Python 3",
   "language": "python",
   "name": "python3"
  },
  "language_info": {
   "codemirror_mode": {
    "name": "ipython",
    "version": 3
   },
   "file_extension": ".py",
   "mimetype": "text/x-python",
   "name": "python",
   "nbconvert_exporter": "python",
   "pygments_lexer": "ipython3",
   "version": "3.12.0"
  },
  "orig_nbformat": 4
 },
 "nbformat": 4,
 "nbformat_minor": 2
}
